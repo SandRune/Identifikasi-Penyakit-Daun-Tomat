{
 "cells": [
  {
   "cell_type": "markdown",
   "id": "e6bbf7ef",
   "metadata": {},
   "source": [
    "# training yolov8"
   ]
  },
  {
   "cell_type": "code",
   "execution_count": null,
   "id": "6c258dd6",
   "metadata": {},
   "outputs": [],
   "source": [
    "from ultralytics import YOLO\n",
    "\n",
    "# Load model klasifikasi ringan (n = nano)\n",
    "model = YOLO('yolov8n-cls.pt')\n",
    "\n",
    "# Training ulang pada folder PlantVillage1\n",
    "model.train(\n",
    "    data='PlantVillage1',  # folder dataset\n",
    "    epochs=10,              # jumlah epoch\n",
    "    imgsz=224               # ukuran gambar input\n",
    ")\n"
   ]
  },
  {
   "cell_type": "markdown",
   "id": "1bf80e3f",
   "metadata": {},
   "source": [
    "# Grafik Precission Recall F1 score !\n"
   ]
  },
  {
   "cell_type": "code",
   "execution_count": null,
   "id": "f971ca50",
   "metadata": {},
   "outputs": [],
   "source": [
    "from ultralytics import YOLO\n",
    "from sklearn.metrics import classification_report, accuracy_score\n",
    "import matplotlib.pyplot as plt\n",
    "import numpy as np\n",
    "import os\n",
    "\n",
    "# Load model terbaik\n",
    "model = YOLO('runs/classify/train/weights/best.pt')\n",
    "class_names = list(model.model.names.values())\n",
    "test_dir = 'PlantDoc-Dataset'\n",
    "\n",
    "y_true = []\n",
    "y_pred = []\n",
    "\n",
    "# Loop gambar di setiap kelas\n",
    "for class_index, class_name in enumerate(class_names):\n",
    "    class_path = os.path.join(test_dir, class_name)\n",
    "    if not os.path.isdir(class_path): continue\n",
    "    for file in os.listdir(class_path):\n",
    "        if file.lower().endswith(('.jpg', '.jpeg', '.png')):\n",
    "            img_path = os.path.join(class_path, file)\n",
    "            results = model(img_path)\n",
    "            pred_index = results[0].probs.top1\n",
    "\n",
    "            y_true.append(class_index)\n",
    "            y_pred.append(pred_index)\n",
    "\n",
    "# Hitung metrik\n",
    "report_dict = classification_report(y_true, y_pred, target_names=class_names, output_dict=True)\n",
    "accuracy = accuracy_score(y_true, y_pred)\n",
    "\n",
    "print(f\"Akurasi Keseluruhan: {accuracy * 100:.2f}%\")\n",
    "\n",
    "# Simpan teks evaluasi ke file\n",
    "from sklearn.metrics import classification_report\n",
    "with open('hasil_evaluasi.txt', 'w') as f:\n",
    "    f.write(f\"Akurasi: {accuracy * 100:.2f}%\\n\\n\")\n",
    "    f.write(classification_report(y_true, y_pred, target_names=class_names))\n",
    "\n",
    "# Ambil metrik untuk grafik\n",
    "precision = [report_dict[cls]['precision'] for cls in class_names]\n",
    "recall = [report_dict[cls]['recall'] for cls in class_names]\n",
    "f1 = [report_dict[cls]['f1-score'] for cls in class_names]\n",
    "\n",
    "x = np.arange(len(class_names))\n",
    "width = 0.25\n",
    "\n",
    "# Plot\n",
    "plt.figure(figsize=(12, 6))\n",
    "plt.bar(x - width, precision, width, label='Precision')\n",
    "plt.bar(x, recall, width, label='Recall')\n",
    "plt.bar(x + width, f1, width, label='F1-score')\n",
    "\n",
    "plt.xlabel('Kelas')\n",
    "plt.ylabel('Skor')\n",
    "plt.title('Precision, Recall, dan F1-score per Kelas')\n",
    "plt.xticks(ticks=x, labels=class_names, rotation=45, ha='right')\n",
    "plt.ylim(0, 1.05)\n",
    "plt.legend()\n",
    "plt.tight_layout()\n",
    "plt.grid(True)\n",
    "plt.show()\n"
   ]
  },
  {
   "cell_type": "markdown",
   "id": "797cac00",
   "metadata": {},
   "source": [
    "# Ini kalau ada gambar\n",
    "gambarnya masukan ke test_image"
   ]
  },
  {
   "cell_type": "code",
   "execution_count": null,
   "id": "5c7c8377",
   "metadata": {},
   "outputs": [],
   "source": [
    "import os\n",
    "\n",
    "# Load model deteksi (bukan klasifikasi)\n",
    "model = YOLO('runs/classify/train/weights/best.pt')\n",
    "\n",
    "# Path folder gambar uji\n",
    "test_folder = 'test_closeimg'\n",
    "\n",
    "# Loop dan deteksi semua gambar\n",
    "for file in os.listdir(test_folder):\n",
    "    if file.lower().endswith(('.jpg', '.jpeg', '.png')):\n",
    "        path = os.path.join(test_folder, file)\n",
    "        results = model(path, save=True)  # akan menyimpan hasil deteksi secara otomatis di runs/detect\n"
   ]
  },
  {
   "cell_type": "markdown",
   "id": "d6e5db7a",
   "metadata": {},
   "source": [
    "# Ngelihatin gambar di folder apa aja Random"
   ]
  },
  {
   "cell_type": "code",
   "execution_count": null,
   "id": "c88edefb",
   "metadata": {},
   "outputs": [],
   "source": [
    "import os\n",
    "import matplotlib.pyplot as plt\n",
    "import matplotlib.image as mpimg\n",
    "import random\n",
    "\n",
    "# Path dataset\n",
    "dataset_dir = 'PlantVillage1_split/val'\n",
    "\n",
    "# Ambil semua folder kelas\n",
    "class_folders = [d for d in os.listdir(dataset_dir) if os.path.isdir(os.path.join(dataset_dir, d))]\n",
    "\n",
    "# Pilih 4 kelas secara acak\n",
    "selected_classes = random.sample(class_folders, 4)\n",
    "\n",
    "# Tampilkan 1 gambar dari masing-masing kelas\n",
    "plt.figure(figsize=(12, 4))\n",
    "\n",
    "for i, class_name in enumerate(selected_classes):\n",
    "    class_path = os.path.join(dataset_dir, class_name)\n",
    "    image_files = [f for f in os.listdir(class_path) if f.lower().endswith(('.jpg', '.jpeg', '.png'))]\n",
    "\n",
    "    if image_files:\n",
    "        selected_image = random.choice(image_files)\n",
    "        img_path = os.path.join(class_path, selected_image)\n",
    "        img = mpimg.imread(img_path)\n",
    "\n",
    "        plt.subplot(2, 2, i + 1)\n",
    "        plt.imshow(img)\n",
    "        plt.title(f\"{class_name}\\n{selected_image}\", fontsize=8)\n",
    "        plt.axis('off')\n",
    "    else:\n",
    "        print(f\"⚠️ Tidak ada gambar di folder {class_name}\")\n",
    "\n",
    "plt.tight_layout()\n",
    "plt.show()\n"
   ]
  }
 ],
 "metadata": {
  "kernelspec": {
   "display_name": "base",
   "language": "python",
   "name": "python3"
  },
  "language_info": {
   "codemirror_mode": {
    "name": "ipython",
    "version": 3
   },
   "file_extension": ".py",
   "mimetype": "text/x-python",
   "name": "python",
   "nbconvert_exporter": "python",
   "pygments_lexer": "ipython3",
   "version": "3.11.4"
  }
 },
 "nbformat": 4,
 "nbformat_minor": 5
}
